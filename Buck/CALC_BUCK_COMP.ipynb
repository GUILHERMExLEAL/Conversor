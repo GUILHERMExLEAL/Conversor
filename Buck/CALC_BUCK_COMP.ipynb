{
 "cells": [
  {
   "cell_type": "code",
   "execution_count": 18,
   "metadata": {},
   "outputs": [
    {
     "name": "stdout",
     "output_type": "stream",
     "text": [
      "A razao ciclica deu : 0.5\n"
     ]
    }
   ],
   "source": [
    "#calculo da razao ciclica\n",
    "\n",
    "#definido parametros:\n",
    "V_i = 5 #  tensão de entrada(V)\n",
    "V_0 = 2.5 # tensão de saída (V)\n",
    "\n",
    "# calculando a equação da razão cíclica\n",
    "\n",
    "D = V_0/V_i\n",
    "\n",
    "#Imprimindo o valor da razão cíclica \n",
    "print(\"A razao ciclica deu :\", D)\n"
   ]
  },
  {
   "cell_type": "code",
   "execution_count": 19,
   "metadata": {},
   "outputs": [
    {
     "name": "stdout",
     "output_type": "stream",
     "text": [
      "A corrente de saida e de  2.0\n"
     ]
    }
   ],
   "source": [
    "#corrente de saída\n",
    "\n",
    "# parametros\n",
    "\n",
    "P_o = 5 # potência nominal (W)\n",
    "V_0\n",
    "\n",
    "#calculando a corrente de saída\n",
    "\n",
    "I_0 = P_o/V_0\n",
    "\n",
    "#imprimindo o valor da corrente de saída\n",
    "\n",
    "print(\"A corrente de saida e de \" , I_0)\n"
   ]
  },
  {
   "cell_type": "code",
   "execution_count": 21,
   "metadata": {},
   "outputs": [
    {
     "name": "stdout",
     "output_type": "stream",
     "text": [
      "Resistencia de carga: 2.5\n"
     ]
    }
   ],
   "source": [
    "# cálculo da resistência de carga\n",
    "\n",
    "R_0 = V_0/I_0 \n",
    "\n",
    "#imprimindo cálculo da resistência de carga\n",
    "\n",
    "print(\"Resistencia de carga:\" , R_0)"
   ]
  },
  {
   "cell_type": "code",
   "execution_count": 4,
   "metadata": {},
   "outputs": [
    {
     "name": "stdout",
     "output_type": "stream",
     "text": [
      "Corrente média: 2.5\n",
      "Corrente eficaz: 3.5355339059327378\n"
     ]
    }
   ],
   "source": [
    "#cálculo corrente média e eficaz da chave\n",
    "import math\n",
    "#parametros\n",
    "\n",
    "I_L = 5 # corrente no indutor\n",
    "\n",
    "#cálculo da corrente média \n",
    "\n",
    "Is_md = (1 - D) * I_L\n",
    "\n",
    "#cálculo da corrente eficaz\n",
    "\n",
    "Is_ef = math.sqrt(1-D) * I_L\n",
    "\n",
    "#imprimindo valor da corrente média e eficaz\n",
    "\n",
    "print(\"Corrente média:\" ,Is_md)\n",
    "print( \"Corrente eficaz:\" , Is_ef) "
   ]
  },
  {
   "cell_type": "code",
   "execution_count": 23,
   "metadata": {},
   "outputs": [
    {
     "name": "stdout",
     "output_type": "stream",
     "text": [
      "A indutância do indutor é: 0.00025\n"
     ]
    }
   ],
   "source": [
    "# Equação do indutor:\n",
    "# L = ((V_i - V_0) * D) / (f_s * delta_I_L)\n",
    "# Onde:\n",
    "# L é a indutância do indutor (em Henry)\n",
    "# V_i é a tensão de entrada (em Volts)\n",
    "# V_0 é a tensão de saída (em Volts)\n",
    "# D é a razão cíclica do conversor (sem unidade)\n",
    "# f_s é a frequência de chaveamento (em Hertz)\n",
    "# delta_I_L é a ondulação da corrente no indutor (em Ampères)\n",
    "\n",
    "# Definindo os parâmetros:\n",
    "V_i # Tensão saída (V)\n",
    "V_0   # Tensão de entrada (V)\n",
    "D      # Razão cíclica (sem unidade)\n",
    "f_s = 10000 # Frequência de chaveamento (Hz)\n",
    "delta_I_L = 0.1 * 5 # Ondulação da corrente no indutor (A)\n",
    "\n",
    "# Calculando a indutância do indutor:\n",
    "L = ((V_i - V_0) * D) / (f_s * delta_I_L)\n",
    "\n",
    "# Imprimindo o valor da indutância:\n",
    "print(\"A indutância do indutor é:\", L,)\n",
    "\n"
   ]
  },
  {
   "cell_type": "code",
   "execution_count": 24,
   "metadata": {},
   "outputs": [
    {
     "name": "stdout",
     "output_type": "stream",
     "text": [
      "corrente de pico na chave e no diodo:  5.25\n"
     ]
    }
   ],
   "source": [
    "# corrente de pico na chave e no diodo\n",
    "\n",
    "I_smax = I_dmax = I_L + (delta_I_L)/2\n",
    "\n",
    "print(\"corrente de pico na chave e no diodo: \" , I_smax)"
   ]
  },
  {
   "cell_type": "code",
   "execution_count": 25,
   "metadata": {},
   "outputs": [
    {
     "name": "stdout",
     "output_type": "stream",
     "text": [
      "Corrente média: 3.5355339059327378\n",
      "Corrente eficaz: 5.25\n"
     ]
    }
   ],
   "source": [
    "# corrente média e eficaz no diodo\n",
    "\n",
    "# corrente média\n",
    "\n",
    "Id_md = (1 - D) * I_L\n",
    "\n",
    "# corrente eficaz \n",
    "\n",
    "Id_ef = math.sqrt(1-D) * I_L\n",
    "\n",
    "print(\"Corrente média:\" , Id_ef)\n",
    "print (\"Corrente eficaz:\", I_dmax)\n"
   ]
  },
  {
   "cell_type": "code",
   "execution_count": 27,
   "metadata": {},
   "outputs": [
    {
     "name": "stdout",
     "output_type": "stream",
     "text": [
      "A capacitancia do capacitor é: 6.25e-06 Farads\n"
     ]
    }
   ],
   "source": [
    "# Equação do capacitor:\n",
    "# C = (1 - D) / (8 * f**2 * L * (delta_V_c / V_0))\n",
    "# Onde:\n",
    "# C é a capacitância do capacitor (em Farads)\n",
    "# D é a razão cíclica do conversor (sem unidade)\n",
    "# f é a frequência de operação (em Hertz)\n",
    "# L é a indutância do indutor (em Henry)\n",
    "# delta_V_c é a variação da tensão no capacitor (em Volts)\n",
    "# V_0 é a tensão de entrada (em Volts)\n",
    "\n",
    "# Definindo os parâmetros:\n",
    "D = 0.5        # Razão cíclica (sem unidade)\n",
    "f = 10000      # Frequência de operação (Hz)\n",
    "L        # Indutância do indutor (H)\n",
    "delta_V_c = 1  # Variação da tensão no capacitor (V)\n",
    "V_0        # Tensão de saída (V)\n",
    "\n",
    "# Calculando a capacitancia do capacitor:\n",
    "C = (1 - D) / (8 * f**2 * L * (delta_V_c / V_0))\n",
    "\n",
    "# Imprimindo o valor da capacitancia:\n",
    "print(\"A capacitancia do capacitor é:\", C, \"Farads\")\n"
   ]
  }
 ],
 "metadata": {
  "kernelspec": {
   "display_name": "Python 3",
   "language": "python",
   "name": "python3"
  },
  "language_info": {
   "codemirror_mode": {
    "name": "ipython",
    "version": 3
   },
   "file_extension": ".py",
   "mimetype": "text/x-python",
   "name": "python",
   "nbconvert_exporter": "python",
   "pygments_lexer": "ipython3",
   "version": "3.12.3"
  }
 },
 "nbformat": 4,
 "nbformat_minor": 2
}
