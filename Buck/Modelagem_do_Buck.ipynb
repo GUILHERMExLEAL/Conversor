{
  "cells": [
    {
      "cell_type": "code",
      "execution_count": 1,
      "metadata": {
        "id": "3gau-5iPut9J"
      },
      "outputs": [],
      "source": [
        "import numpy as np\n",
        "import sympy as sym # Pacote de matemática simbólica;\n",
        "from sympy import MatrixSymbol, Matrix"
      ]
    },
    {
      "cell_type": "code",
      "execution_count": 2,
      "metadata": {
        "id": "yRZHXNGxvDDE"
      },
      "outputs": [],
      "source": [
        "t = sym.Symbol('t')\n",
        "u = sym.Symbol('u')\n",
        "\n",
        "R = sym.Symbol('R')\n",
        "L = sym.Symbol('L')\n",
        "C = sym.Symbol('C')\n",
        "\n",
        "k = sym.Symbol('k')\n",
        "\n",
        "s = sym.Symbol('s')\n",
        "\n",
        "Vi = sym.Symbol('V_i')"
      ]
    },
    {
      "cell_type": "code",
      "execution_count": 3,
      "metadata": {
        "id": "NEuBYMpDwIRs"
      },
      "outputs": [],
      "source": [
        "# Matrizes de estado com a chave aberta:\n",
        "A1 = Matrix([[0, -1/L], [1/C, -1/(R*C)]])\n",
        "B1 = Matrix([[1/L], [0]])\n",
        "C1 = Matrix([[0, 1]])\n",
        "\n",
        "# Matrizes de estado com a chave fechado:\n",
        "A2 = Matrix([[0, -1/L], [1/C, -1/(R*C)]])\n",
        "B2 = Matrix([[0], [0]])\n",
        "C2 = Matrix([[0, 1]])\n"
      ]
    },
    {
      "cell_type": "code",
      "execution_count": 4,
      "metadata": {
        "colab": {
          "base_uri": "https://localhost:8080/",
          "height": 58
        },
        "id": "JOO5nxubNDgo",
        "outputId": "1a96bd56-0454-4cc0-9039-b943ca5d3467"
      },
      "outputs": [
        {
          "data": {
            "text/latex": [
              "$\\displaystyle \\left[\\begin{matrix}0 & - \\frac{1}{L}\\\\\\frac{1}{C} & - \\frac{1}{C R}\\end{matrix}\\right]$"
            ],
            "text/plain": [
              "Matrix([\n",
              "[  0,     -1/L],\n",
              "[1/C, -1/(C*R)]])"
            ]
          },
          "execution_count": 4,
          "metadata": {},
          "output_type": "execute_result"
        }
      ],
      "source": [
        "# Matrizes de estado do modelo médio:\n",
        "A = sym.simplify(A1*k + A2*(1-k))\n",
        "B = sym.simplify(B1*k + B2*(1-k))\n",
        "Cm = sym.simplify(C1*k + C2*(1-k))\n",
        "\n",
        "A"
      ]
    },
    {
      "cell_type": "markdown",
      "metadata": {
        "id": "UA4rCmk0TXlI"
      },
      "source": [
        "$$ G(s) = \\frac{v_o(s)}{d(s)}$$"
      ]
    },
    {
      "cell_type": "code",
      "execution_count": 5,
      "metadata": {
        "colab": {
          "base_uri": "https://localhost:8080/",
          "height": 53
        },
        "id": "pNE2auPHTSLT",
        "outputId": "554159a4-f2ab-413a-dc03-99ef6d254a40"
      },
      "outputs": [
        {
          "data": {
            "text/latex": [
              "$\\displaystyle \\frac{1.0 R V_{i} k}{1.0 C L R s^{2} + 1.0 L s + 1.0 R}$"
            ],
            "text/plain": [
              "1.0*R*V_i*k/(1.0*C*L*R*s**2 + 1.0*L*s + 1.0*R)"
            ]
          },
          "execution_count": 5,
          "metadata": {},
          "output_type": "execute_result"
        }
      ],
      "source": [
        "G = (Cm*((s*np.eye(2)-A).inv())*B*Vi)[0]\n",
        "\n",
        "G"
      ]
    }
  ],
  "metadata": {
    "colab": {
      "provenance": []
    },
    "kernelspec": {
      "display_name": "Python 3",
      "name": "python3"
    },
    "language_info": {
      "codemirror_mode": {
        "name": "ipython",
        "version": 3
      },
      "file_extension": ".py",
      "mimetype": "text/x-python",
      "name": "python",
      "nbconvert_exporter": "python",
      "pygments_lexer": "ipython3",
      "version": "3.12.3"
    }
  },
  "nbformat": 4,
  "nbformat_minor": 0
}
