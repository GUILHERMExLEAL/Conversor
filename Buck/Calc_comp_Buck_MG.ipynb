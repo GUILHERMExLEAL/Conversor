{
 "cells": [
  {
   "cell_type": "code",
   "execution_count": null,
   "metadata": {},
   "outputs": [
    {
     "name": "stdout",
     "output_type": "stream",
     "text": [
      "O ciclo de trabalho é: 0.7500\n",
      "A corrente de saída é: 6.6667 A\n",
      "A resistência de carga é: 2.2500 Ω\n",
      "O indutor é igual a: 225.0900 uH\n",
      "A ondulação de corrente no indutor é: 0.8330 A\n",
      "A capacitância é igual a: 43.3854 uF\n",
      "Esforço na chave:\n",
      "  Valor médio da corrente: 5.0000 A\n",
      "  Valor eficaz da corrente: 5.7735 A\n",
      "  Valor máximo de corrente: 6.7167 A\n",
      "  Valor máximo de tensão: 20.0000 V\n",
      "Cálculos do diodo:\n",
      "  Valor médio da corrente: 1.6667 A\n",
      "  Valor eficaz da corrente: 3.3333 A\n",
      "  Valor máximo de corrente: 6.7167 A\n",
      "  Valor máximo de tensão: 20.0000 V\n"
     ]
    }
   ],
   "source": [
    "# Definição das variáveis de entrada\n",
    "Vi = 30             #  Digite a tensão de entrada (Vi)\n",
    "Vo = 12             #  Digite a tensão de saída (Vo)\n",
    "P0 = 100            #  Digite a potência máxima de saída (P0) P0=V0*I0\n",
    "fs = 20*10**3       #  Digite a frequência de comutação (fs)\n",
    "dIL = 0.1           #  Digite a ondulação de corrente no indutor em % (ΔIL)\n",
    "dVc = 0.01          #  Digite a ondulação de tensão no capacitor em % (ΔVc)\n",
    "\n",
    "# Cálculo do ciclo de trabalho\n",
    "D = Vo / Vi\n",
    "print(f\"O ciclo de trabalho é: {D:.4f}\")\n",
    "\n",
    "# Cálculo da corrente de saída\n",
    "I0 = P0 / Vo\n",
    "print(f\"A corrente de saída é: {I0:.4f} A\")\n",
    "\n",
    "# Cálculo da resistência de carga\n",
    "R0 = Vo**2 / P0\n",
    "print(f\"A resistência de carga é: {R0:.4f} Ω\")\n",
    "\n",
    "# Cálculo do indutor\n",
    "L0 = ((Vi - Vo) * D / (fs * (dIL * I0))*10**6)\n",
    "\n",
    "print(f\"O indutor é igual a: {L0:.4f} uH\")\n",
    "\n",
    "# Cálculo da ondulação de corrente no indutor\n",
    "dIL_calc = (Vi - Vo) * D / (fs * (L0*10**-6))\n",
    "print(f\"A ondulação de corrente no indutor é: {dIL_calc:.4f} A\")\n",
    "\n",
    "# Cálculo da capacitância\n",
    "C0 = dIL_calc / (8 * fs  * (dVc*Vo))*10**6\n",
    "print(f\"A capacitância é igual a: {C0:.4f} uF\")\n",
    "\n",
    "# Cálculo do esforço na chave\n",
    "Ismd = D * I0\n",
    "Isrms = (D**0.5) * I0\n",
    "Ismax = I0 + dIL / 2\n",
    "Vsmax = Vi\n",
    "\n",
    "print(f\"Esforço na chave:\")\n",
    "print(f\"  Valor médio da corrente: {Ismd:.4f} A\")\n",
    "print(f\"  Valor eficaz da corrente: {Isrms:.4f} A\")\n",
    "print(f\"  Valor máximo de corrente: {Ismax:.4f} A\")\n",
    "print(f\"  Valor máximo de tensão: {Vsmax:.4f} V\")\n",
    "\n",
    "# Cálculo do diodo\n",
    "Idmd = (1 - D) * I0\n",
    "Idrms = ((1 - D) ** 0.5) * I0\n",
    "Idmax = I0 + dIL / 2\n",
    "\n",
    "print(f\"Cálculos do diodo:\")\n",
    "print(f\"  Valor médio da corrente: {Idmd:.4f} A\")\n",
    "print(f\"  Valor eficaz da corrente: {Idrms:.4f} A\")\n",
    "print(f\"  Valor máximo de corrente: {Idmax:.4f} A\")\n",
    "print(f\"  Valor máximo de tensão: {Vsmax:.4f} V\")"
   ]
  }
 ],
 "metadata": {
  "kernelspec": {
   "display_name": "Python 3",
   "language": "python",
   "name": "python3"
  },
  "language_info": {
   "codemirror_mode": {
    "name": "ipython",
    "version": 3
   },
   "file_extension": ".py",
   "mimetype": "text/x-python",
   "name": "python",
   "nbconvert_exporter": "python",
   "pygments_lexer": "ipython3",
   "version": "3.12.5"
  }
 },
 "nbformat": 4,
 "nbformat_minor": 2
}
